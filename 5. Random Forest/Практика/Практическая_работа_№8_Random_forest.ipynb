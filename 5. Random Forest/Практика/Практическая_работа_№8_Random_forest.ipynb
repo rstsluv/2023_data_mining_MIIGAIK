{
  "cells": [
    {
      "cell_type": "markdown",
      "metadata": {
        "colab_type": "text",
        "id": "view-in-github"
      },
      "source": [
        "<a href=\"https://colab.research.google.com/github/Stepeech/DataMining/blob/main/%D0%9F%D1%80%D0%B0%D0%BA%D1%82%D0%B8%D1%87%D0%B5%D1%81%D0%BA%D0%B0%D1%8F_%D1%80%D0%B0%D0%B1%D0%BE%D1%82%D0%B0_%E2%84%968_Random_forest.ipynb\" target=\"_parent\"><img src=\"https://colab.research.google.com/assets/colab-badge.svg\" alt=\"Open In Colab\"/></a>"
      ]
    },
    {
      "cell_type": "markdown",
      "metadata": {
        "id": "0j_kTt7qVxeX"
      },
      "source": [
        "# **Практическая работа №8. Random forest**"
      ]
    },
    {
      "cell_type": "markdown",
      "metadata": {
        "id": "hwRT_4l_KybQ"
      },
      "source": [
        "# Задание 1. Обучите классификатор Random Forest для решения задачи бинарной классификации: для каждого человека научиться предсказывать, выживет ли он при крушении Титаника.\n",
        "\n",
        "Ссылка на датасет: https://www.kaggle.com/c/titanic/data"
      ]
    },
    {
      "cell_type": "markdown",
      "metadata": {
        "id": "6-SQIKsyWzDK"
      },
      "source": [
        "## 1. Устанавливаем зависимости"
      ]
    },
    {
      "cell_type": "code",
      "execution_count": 1,
      "metadata": {
        "id": "rT_eTIY5W9_h"
      },
      "outputs": [],
      "source": [
        "import pandas as pd\n",
        "from sklearn.model_selection import train_test_split\n",
        "from sklearn.ensemble import RandomForestClassifier\n",
        "from sklearn.metrics import accuracy_score, classification_report\n",
        "import matplotlib.pyplot as plt"
      ]
    },
    {
      "cell_type": "markdown",
      "metadata": {
        "id": "AedM9KndWzMB"
      },
      "source": [
        "## 2. Импортируем датасет"
      ]
    },
    {
      "cell_type": "code",
      "execution_count": 2,
      "metadata": {
        "colab": {
          "base_uri": "https://localhost:8080/",
          "height": 206
        },
        "id": "CJ3mE4JpXGZE",
        "outputId": "d500f4dc-7ee6-4a2e-a2b2-a6514b86c765"
      },
      "outputs": [
        {
          "data": {
            "text/html": [
              "<div>\n",
              "<style scoped>\n",
              "    .dataframe tbody tr th:only-of-type {\n",
              "        vertical-align: middle;\n",
              "    }\n",
              "\n",
              "    .dataframe tbody tr th {\n",
              "        vertical-align: top;\n",
              "    }\n",
              "\n",
              "    .dataframe thead th {\n",
              "        text-align: right;\n",
              "    }\n",
              "</style>\n",
              "<table border=\"1\" class=\"dataframe\">\n",
              "  <thead>\n",
              "    <tr style=\"text-align: right;\">\n",
              "      <th></th>\n",
              "      <th>PassengerId</th>\n",
              "      <th>Survived</th>\n",
              "      <th>Pclass</th>\n",
              "      <th>Name</th>\n",
              "      <th>Sex</th>\n",
              "      <th>Age</th>\n",
              "      <th>SibSp</th>\n",
              "      <th>Parch</th>\n",
              "      <th>Ticket</th>\n",
              "      <th>Fare</th>\n",
              "      <th>Cabin</th>\n",
              "      <th>Embarked</th>\n",
              "    </tr>\n",
              "  </thead>\n",
              "  <tbody>\n",
              "    <tr>\n",
              "      <th>0</th>\n",
              "      <td>1</td>\n",
              "      <td>0</td>\n",
              "      <td>3</td>\n",
              "      <td>Braund, Mr. Owen Harris</td>\n",
              "      <td>male</td>\n",
              "      <td>22.0</td>\n",
              "      <td>1</td>\n",
              "      <td>0</td>\n",
              "      <td>A/5 21171</td>\n",
              "      <td>7.2500</td>\n",
              "      <td>NaN</td>\n",
              "      <td>S</td>\n",
              "    </tr>\n",
              "    <tr>\n",
              "      <th>1</th>\n",
              "      <td>2</td>\n",
              "      <td>1</td>\n",
              "      <td>1</td>\n",
              "      <td>Cumings, Mrs. John Bradley (Florence Briggs Th...</td>\n",
              "      <td>female</td>\n",
              "      <td>38.0</td>\n",
              "      <td>1</td>\n",
              "      <td>0</td>\n",
              "      <td>PC 17599</td>\n",
              "      <td>71.2833</td>\n",
              "      <td>C85</td>\n",
              "      <td>C</td>\n",
              "    </tr>\n",
              "    <tr>\n",
              "      <th>2</th>\n",
              "      <td>3</td>\n",
              "      <td>1</td>\n",
              "      <td>3</td>\n",
              "      <td>Heikkinen, Miss. Laina</td>\n",
              "      <td>female</td>\n",
              "      <td>26.0</td>\n",
              "      <td>0</td>\n",
              "      <td>0</td>\n",
              "      <td>STON/O2. 3101282</td>\n",
              "      <td>7.9250</td>\n",
              "      <td>NaN</td>\n",
              "      <td>S</td>\n",
              "    </tr>\n",
              "    <tr>\n",
              "      <th>3</th>\n",
              "      <td>4</td>\n",
              "      <td>1</td>\n",
              "      <td>1</td>\n",
              "      <td>Futrelle, Mrs. Jacques Heath (Lily May Peel)</td>\n",
              "      <td>female</td>\n",
              "      <td>35.0</td>\n",
              "      <td>1</td>\n",
              "      <td>0</td>\n",
              "      <td>113803</td>\n",
              "      <td>53.1000</td>\n",
              "      <td>C123</td>\n",
              "      <td>S</td>\n",
              "    </tr>\n",
              "    <tr>\n",
              "      <th>4</th>\n",
              "      <td>5</td>\n",
              "      <td>0</td>\n",
              "      <td>3</td>\n",
              "      <td>Allen, Mr. William Henry</td>\n",
              "      <td>male</td>\n",
              "      <td>35.0</td>\n",
              "      <td>0</td>\n",
              "      <td>0</td>\n",
              "      <td>373450</td>\n",
              "      <td>8.0500</td>\n",
              "      <td>NaN</td>\n",
              "      <td>S</td>\n",
              "    </tr>\n",
              "    <tr>\n",
              "      <th>...</th>\n",
              "      <td>...</td>\n",
              "      <td>...</td>\n",
              "      <td>...</td>\n",
              "      <td>...</td>\n",
              "      <td>...</td>\n",
              "      <td>...</td>\n",
              "      <td>...</td>\n",
              "      <td>...</td>\n",
              "      <td>...</td>\n",
              "      <td>...</td>\n",
              "      <td>...</td>\n",
              "      <td>...</td>\n",
              "    </tr>\n",
              "    <tr>\n",
              "      <th>886</th>\n",
              "      <td>887</td>\n",
              "      <td>0</td>\n",
              "      <td>2</td>\n",
              "      <td>Montvila, Rev. Juozas</td>\n",
              "      <td>male</td>\n",
              "      <td>27.0</td>\n",
              "      <td>0</td>\n",
              "      <td>0</td>\n",
              "      <td>211536</td>\n",
              "      <td>13.0000</td>\n",
              "      <td>NaN</td>\n",
              "      <td>S</td>\n",
              "    </tr>\n",
              "    <tr>\n",
              "      <th>887</th>\n",
              "      <td>888</td>\n",
              "      <td>1</td>\n",
              "      <td>1</td>\n",
              "      <td>Graham, Miss. Margaret Edith</td>\n",
              "      <td>female</td>\n",
              "      <td>19.0</td>\n",
              "      <td>0</td>\n",
              "      <td>0</td>\n",
              "      <td>112053</td>\n",
              "      <td>30.0000</td>\n",
              "      <td>B42</td>\n",
              "      <td>S</td>\n",
              "    </tr>\n",
              "    <tr>\n",
              "      <th>888</th>\n",
              "      <td>889</td>\n",
              "      <td>0</td>\n",
              "      <td>3</td>\n",
              "      <td>Johnston, Miss. Catherine Helen \"Carrie\"</td>\n",
              "      <td>female</td>\n",
              "      <td>NaN</td>\n",
              "      <td>1</td>\n",
              "      <td>2</td>\n",
              "      <td>W./C. 6607</td>\n",
              "      <td>23.4500</td>\n",
              "      <td>NaN</td>\n",
              "      <td>S</td>\n",
              "    </tr>\n",
              "    <tr>\n",
              "      <th>889</th>\n",
              "      <td>890</td>\n",
              "      <td>1</td>\n",
              "      <td>1</td>\n",
              "      <td>Behr, Mr. Karl Howell</td>\n",
              "      <td>male</td>\n",
              "      <td>26.0</td>\n",
              "      <td>0</td>\n",
              "      <td>0</td>\n",
              "      <td>111369</td>\n",
              "      <td>30.0000</td>\n",
              "      <td>C148</td>\n",
              "      <td>C</td>\n",
              "    </tr>\n",
              "    <tr>\n",
              "      <th>890</th>\n",
              "      <td>891</td>\n",
              "      <td>0</td>\n",
              "      <td>3</td>\n",
              "      <td>Dooley, Mr. Patrick</td>\n",
              "      <td>male</td>\n",
              "      <td>32.0</td>\n",
              "      <td>0</td>\n",
              "      <td>0</td>\n",
              "      <td>370376</td>\n",
              "      <td>7.7500</td>\n",
              "      <td>NaN</td>\n",
              "      <td>Q</td>\n",
              "    </tr>\n",
              "  </tbody>\n",
              "</table>\n",
              "<p>891 rows × 12 columns</p>\n",
              "</div>"
            ],
            "text/plain": [
              "     PassengerId  Survived  Pclass  \\\n",
              "0              1         0       3   \n",
              "1              2         1       1   \n",
              "2              3         1       3   \n",
              "3              4         1       1   \n",
              "4              5         0       3   \n",
              "..           ...       ...     ...   \n",
              "886          887         0       2   \n",
              "887          888         1       1   \n",
              "888          889         0       3   \n",
              "889          890         1       1   \n",
              "890          891         0       3   \n",
              "\n",
              "                                                  Name     Sex   Age  SibSp  \\\n",
              "0                              Braund, Mr. Owen Harris    male  22.0      1   \n",
              "1    Cumings, Mrs. John Bradley (Florence Briggs Th...  female  38.0      1   \n",
              "2                               Heikkinen, Miss. Laina  female  26.0      0   \n",
              "3         Futrelle, Mrs. Jacques Heath (Lily May Peel)  female  35.0      1   \n",
              "4                             Allen, Mr. William Henry    male  35.0      0   \n",
              "..                                                 ...     ...   ...    ...   \n",
              "886                              Montvila, Rev. Juozas    male  27.0      0   \n",
              "887                       Graham, Miss. Margaret Edith  female  19.0      0   \n",
              "888           Johnston, Miss. Catherine Helen \"Carrie\"  female   NaN      1   \n",
              "889                              Behr, Mr. Karl Howell    male  26.0      0   \n",
              "890                                Dooley, Mr. Patrick    male  32.0      0   \n",
              "\n",
              "     Parch            Ticket     Fare Cabin Embarked  \n",
              "0        0         A/5 21171   7.2500   NaN        S  \n",
              "1        0          PC 17599  71.2833   C85        C  \n",
              "2        0  STON/O2. 3101282   7.9250   NaN        S  \n",
              "3        0            113803  53.1000  C123        S  \n",
              "4        0            373450   8.0500   NaN        S  \n",
              "..     ...               ...      ...   ...      ...  \n",
              "886      0            211536  13.0000   NaN        S  \n",
              "887      0            112053  30.0000   B42        S  \n",
              "888      2        W./C. 6607  23.4500   NaN        S  \n",
              "889      0            111369  30.0000  C148        C  \n",
              "890      0            370376   7.7500   NaN        Q  \n",
              "\n",
              "[891 rows x 12 columns]"
            ]
          },
          "execution_count": 2,
          "metadata": {},
          "output_type": "execute_result"
        }
      ],
      "source": [
        "df = pd.read_csv(\"train.csv\")\n",
        "df"
      ]
    },
    {
      "cell_type": "markdown",
      "metadata": {
        "id": "h8LokBddKybd"
      },
      "source": [
        "## 3. Производим разведовательный анализ данных\n",
        "\n",
        "\n",
        "Получим представление о данных в датасете:"
      ]
    },
    {
      "cell_type": "code",
      "execution_count": 4,
      "metadata": {
        "colab": {
          "base_uri": "https://localhost:8080/"
        },
        "id": "yq0aqSApXhTf",
        "outputId": "d9d24e14-0065-40d9-f511-b22fb2516a67"
      },
      "outputs": [
        {
          "name": "stdout",
          "output_type": "stream",
          "text": [
            "<class 'pandas.core.frame.DataFrame'>\n",
            "RangeIndex: 891 entries, 0 to 890\n",
            "Data columns (total 12 columns):\n",
            " #   Column       Non-Null Count  Dtype  \n",
            "---  ------       --------------  -----  \n",
            " 0   PassengerId  891 non-null    int64  \n",
            " 1   Survived     891 non-null    int64  \n",
            " 2   Pclass       891 non-null    int64  \n",
            " 3   Name         891 non-null    object \n",
            " 4   Sex          891 non-null    object \n",
            " 5   Age          714 non-null    float64\n",
            " 6   SibSp        891 non-null    int64  \n",
            " 7   Parch        891 non-null    int64  \n",
            " 8   Ticket       891 non-null    object \n",
            " 9   Fare         891 non-null    float64\n",
            " 10  Cabin        204 non-null    object \n",
            " 11  Embarked     889 non-null    object \n",
            "dtypes: float64(2), int64(5), object(5)\n",
            "memory usage: 83.7+ KB\n",
            "None\n"
          ]
        }
      ],
      "source": [
        "print(df.info())"
      ]
    },
    {
      "cell_type": "code",
      "execution_count": 5,
      "metadata": {
        "colab": {
          "base_uri": "https://localhost:8080/",
          "height": 806
        },
        "id": "QMr-ZbZE5rnl",
        "outputId": "077dfa2d-2128-4c4b-90b8-7e729e3660c2"
      },
      "outputs": [
        {
          "data": {
            "image/png": "[encoded data removed]",
            "text/plain": [
              "<Figure size 1200x800 with 3 Axes>"
            ]
          },
          "metadata": {},
          "output_type": "display_data"
        }
      ],
      "source": [
        "col_names = ['Survived', 'Pclass', 'Sex']\n",
        "\n",
        "fig, axs = plt.subplots(1, 3, figsize=(12, 8))\n",
        "\n",
        "for i, col in enumerate(col_names):\n",
        "    ax = axs[i]\n",
        "    df[col].value_counts().plot(kind='bar', ax=ax)\n",
        "    ax.set_xlabel(col)\n",
        "    ax.set_ylabel('Frequency')\n",
        "\n",
        "plt.tight_layout()\n",
        "plt.show()"
      ]
    },
    {
      "cell_type": "markdown",
      "metadata": {
        "id": "-4VJEzN8Kybi"
      },
      "source": [
        "## 4. Сформируем обучающую и тестовую выборки:\n"
      ]
    },
    {
      "cell_type": "code",
      "execution_count": 65,
      "metadata": {
        "id": "v40NR9NWXhy-"
      },
      "outputs": [],
      "source": [
        "X = df.drop(['Survived'], axis=1)\n",
        "y = df['Survived']\n",
        "\n",
        "non_numeric_columns = X.select_dtypes(exclude=[np.number]).columns\n",
        "X_numeric = X.drop(non_numeric_columns, axis=1)\n",
        "\n",
        "X_numeric.fillna(X_numeric.median(), inplace=True)\n",
        "\n",
        "X_filled = pd.concat([X_numeric, X[non_numeric_columns]], axis=1)\n",
        "X_filled = pd.get_dummies(X_filled)\n",
        "\n",
        "X_train, X_test, y_train, y_test = train_test_split(X_filled, y, test_size=0.2, random_state=1)"
      ]
    },
    {
      "cell_type": "markdown",
      "metadata": {
        "id": "9Hpb-KlSZVMy"
      },
      "source": [
        "## 6. Построение базовой модели:"
      ]
    },
    {
      "cell_type": "code",
      "execution_count": 66,
      "metadata": {
        "colab": {
          "base_uri": "https://localhost:8080/"
        },
        "id": "_6GkXyKGZiMy",
        "outputId": "f1fa0255-f4c9-45ba-b40b-46c8e143fb83"
      },
      "outputs": [
        {
          "name": "stdout",
          "output_type": "stream",
          "text": [
            "Точность: 0.7877094972067039\n"
          ]
        }
      ],
      "source": [
        "rfс = RandomForestClassifier(random_state=1)\n",
        "rfс.fit(X_train, y_train)\n",
        "\n",
        "y_pred = rfс.predict(X_test)\n",
        "\n",
        "accuracy = accuracy_score(y_test, y_pred)\n",
        "print(f\"Точность: {accuracy}\")"
      ]
    },
    {
      "cell_type": "code",
      "execution_count": 67,
      "metadata": {
        "colab": {
          "base_uri": "https://localhost:8080/"
        },
        "id": "VxlKJgPs_Uip",
        "outputId": "76a0e7cc-7658-487d-e821-67e9eea1ae68"
      },
      "outputs": [
        {
          "name": "stdout",
          "output_type": "stream",
          "text": [
            "Точность: 0.7988826815642458\n"
          ]
        }
      ],
      "source": [
        "X = df.drop(['Survived'], axis=1)\n",
        "X = X.drop(['Name'], axis=1)\n",
        "\n",
        "non_numeric_columns = X.select_dtypes(exclude=[np.number]).columns\n",
        "X_numeric = X.drop(non_numeric_columns, axis=1)\n",
        "\n",
        "X_numeric.fillna(X_numeric.median(), inplace=True)\n",
        "\n",
        "X_filled = pd.concat([X_numeric, X[non_numeric_columns]], axis=1)\n",
        "\n",
        "X_filled = pd.get_dummies(X_filled)\n",
        "\n",
        "X_train, X_test, y_train, y_test = train_test_split(X_filled, y, test_size=0.2, random_state=1)\n",
        "\n",
        "rfс_without_names = RandomForestClassifier(random_state=1)\n",
        "rfс_without_names.fit(X_train, y_train)\n",
        "\n",
        "y_pred = rfс_without_names.predict(X_test)\n",
        "\n",
        "accuracy = accuracy_score(y_test, y_pred)\n",
        "print(f\"Точность: {accuracy}\")"
      ]
    },
    {
      "cell_type": "markdown",
      "metadata": {
        "id": "n-W1QwERZ8Gn"
      },
      "source": [
        "## 7. Оценка точности модели:"
      ]
    },
    {
      "cell_type": "markdown",
      "metadata": {
        "id": "uDy7Y4E4am69"
      },
      "source": [
        "### 7.1. Напишите функцию, принимающую на вход аргументы y_pred, y_test и выполняющую визуализацию матрицы ошибок и отчета классификации"
      ]
    },
    {
      "cell_type": "code",
      "execution_count": 68,
      "metadata": {
        "id": "O9h6cWIrZ9Le"
      },
      "outputs": [],
      "source": [
        "from sklearn.metrics import confusion_matrix\n",
        "import seaborn as sns\n",
        "\n",
        "def report(y_pred, y_test):\n",
        "    cm = confusion_matrix(y_test, y_pred)\n",
        "    plt.figure(figsize=(6, 6))\n",
        "    sns.heatmap(cm, annot=True, fmt=\".0f\", cmap=\"Blues\", cbar=False, xticklabels=[\"Not Survived\", \"Survived\"], yticklabels=[\"Not Survived\", \"Survived\"])\n",
        "    plt.xlabel(\"Predicted\")\n",
        "    plt.ylabel(\"Actual\")\n",
        "    plt.show()\n",
        "    print(classification_report(y_test, y_pred))"
      ]
    },
    {
      "cell_type": "markdown",
      "metadata": {
        "id": "i41JeZ4jatU3"
      },
      "source": [
        "### 7.2. Оцените точность модели:"
      ]
    },
    {
      "cell_type": "code",
      "execution_count": 69,
      "metadata": {
        "colab": {
          "base_uri": "https://localhost:8080/",
          "height": 726
        },
        "id": "J6mnzmr-a55M",
        "outputId": "742e56da-8413-496f-b7e7-4f5b467e72da"
      },
      "outputs": [
        {
          "data": {
            "image/png": "[encoded data removed]",
            "text/plain": [
              "<Figure size 600x600 with 1 Axes>"
            ]
          },
          "metadata": {},
          "output_type": "display_data"
        },
        {
          "name": "stdout",
          "output_type": "stream",
          "text": [
            "              precision    recall  f1-score   support\n",
            "\n",
            "           0       0.77      0.94      0.85       106\n",
            "           1       0.88      0.59      0.70        73\n",
            "\n",
            "    accuracy                           0.80       179\n",
            "   macro avg       0.82      0.77      0.78       179\n",
            "weighted avg       0.81      0.80      0.79       179\n",
            "\n"
          ]
        }
      ],
      "source": [
        "report(y_pred, y_test)"
      ]
    },
    {
      "cell_type": "markdown",
      "metadata": {
        "id": "mGpNzrqKa-o-"
      },
      "source": [
        "## 8. Тюнинг гиперпараметров модели:"
      ]
    },
    {
      "cell_type": "markdown",
      "metadata": {
        "id": "ev_8vFTUbIQC"
      },
      "source": [
        "RandomSearchCV"
      ]
    },
    {
      "cell_type": "code",
      "execution_count": 70,
      "metadata": {
        "colab": {
          "base_uri": "https://localhost:8080/",
          "height": 781
        },
        "id": "-KrLGqfEbFj6",
        "outputId": "9c86a04f-040f-4d90-86df-a2656445dd02"
      },
      "outputs": [
        {
          "name": "stdout",
          "output_type": "stream",
          "text": [
            "Fitting 4 folds for each of 200 candidates, totalling 800 fits\n",
            "Best paramters: {'n_estimators': 483, 'max_leaf_nodes': 109, 'max_depth': 400})\n",
            "Оценка точности модели при подборе параметров с помощью RandomizedSearchCV 0.7932960893854749\n"
          ]
        },
        {
          "data": {
            "image/png": "[encoded data removed]",
            "text/plain": [
              "<Figure size 600x600 with 1 Axes>"
            ]
          },
          "metadata": {},
          "output_type": "display_data"
        },
        {
          "name": "stdout",
          "output_type": "stream",
          "text": [
            "              precision    recall  f1-score   support\n",
            "\n",
            "           0       0.76      0.95      0.85       106\n",
            "           1       0.89      0.56      0.69        73\n",
            "\n",
            "    accuracy                           0.79       179\n",
            "   macro avg       0.83      0.76      0.77       179\n",
            "weighted avg       0.81      0.79      0.78       179\n",
            "\n"
          ]
        }
      ],
      "source": [
        "from sklearn.model_selection import RandomizedSearchCV\n",
        "import numpy as np\n",
        "\n",
        "n_estimators = [int(x) for x in np.linspace(start=400, stop=550, num=10)]\n",
        "max_depth = [int(x) for x in np.linspace(250, 550, num=5)]\n",
        "max_depth.append(None)\n",
        "max_leaf_nodes = [int(i) for i in range(50, 120)]\n",
        "\n",
        "# Определение пространства гиперпараметров\n",
        "random_grid = {\n",
        "    'n_estimators': n_estimators,\n",
        "    'max_depth': max_depth,\n",
        "    'max_leaf_nodes': max_leaf_nodes,\n",
        "}\n",
        "\n",
        "# Определение модели классификатора\n",
        "rf_clf = RandomForestClassifier(random_state=0)\n",
        "\n",
        "# Определение объекта RandomizedSearchCV\n",
        "rf_cv = RandomizedSearchCV(\n",
        "    estimator=rf_clf,\n",
        "    scoring='accuracy',\n",
        "    param_distributions=random_grid,\n",
        "    n_iter=200,\n",
        "    cv=4,\n",
        "    verbose=1,\n",
        "    random_state=42,\n",
        "    n_jobs=-1\n",
        ")\n",
        "\n",
        "# Обучение модели с перебором гиперпараметров\n",
        "rf_cv.fit(X_train, y_train)\n",
        "\n",
        "# Получение оптимальных гиперпараметров\n",
        "rf_best_params = rf_cv.best_params_\n",
        "print(f\"Best paramters: {rf_best_params})\")\n",
        "\n",
        "# Использование оптимальных гиперпараметров в классификаторе\n",
        "rf_clf = RandomForestClassifier(**rf_best_params)\n",
        "rf_clf.fit(X_train, y_train)\n",
        "\n",
        "y_pred = rf_clf.predict(X_test)\n",
        "\n",
        "print(f'Оценка точности модели при подборе параметров с помощью RandomizedSearchCV {accuracy_score(y_test, y_pred)}')\n",
        "\n",
        "report(y_pred, y_test)"
      ]
    },
    {
      "cell_type": "markdown",
      "metadata": {
        "id": "yfHfNr8mbJGg"
      },
      "source": [
        "GridSearchCV"
      ]
    },
    {
      "cell_type": "code",
      "execution_count": 71,
      "metadata": {
        "colab": {
          "base_uri": "https://localhost:8080/",
          "height": 781
        },
        "id": "LelJW7VdbKCu",
        "outputId": "a29277bd-2427-41c1-8307-751db2ba8f9c"
      },
      "outputs": [
        {
          "name": "stdout",
          "output_type": "stream",
          "text": [
            "Fitting 5 folds for each of 36 candidates, totalling 180 fits\n",
            "Best parameters: {'max_depth': 78, 'max_leaf_nodes': 65, 'min_samples_leaf': 3, 'n_estimators': 365}\n",
            "Оценка точности модели при подборе параметров с помощью GridSearchCV 0.5921787709497207\n"
          ]
        },
        {
          "data": {
            "image/png": "[encoded data removed]",
            "text/plain": [
              "<Figure size 600x600 with 1 Axes>"
            ]
          },
          "metadata": {},
          "output_type": "display_data"
        },
        {
          "name": "stdout",
          "output_type": "stream",
          "text": [
            "              precision    recall  f1-score   support\n",
            "\n",
            "           0       0.59      1.00      0.74       106\n",
            "           1       0.00      0.00      0.00        73\n",
            "\n",
            "    accuracy                           0.59       179\n",
            "   macro avg       0.30      0.50      0.37       179\n",
            "weighted avg       0.35      0.59      0.44       179\n",
            "\n"
          ]
        },
        {
          "name": "stderr",
          "output_type": "stream",
          "text": [
            "c:\\Users\\Admin\\AppData\\Local\\Programs\\Python\\Python311\\Lib\\site-packages\\sklearn\\metrics\\_classification.py:1344: UndefinedMetricWarning: Precision and F-score are ill-defined and being set to 0.0 in labels with no predicted samples. Use `zero_division` parameter to control this behavior.\n",
            "  _warn_prf(average, modifier, msg_start, len(result))\n",
            "c:\\Users\\Admin\\AppData\\Local\\Programs\\Python\\Python311\\Lib\\site-packages\\sklearn\\metrics\\_classification.py:1344: UndefinedMetricWarning: Precision and F-score are ill-defined and being set to 0.0 in labels with no predicted samples. Use `zero_division` parameter to control this behavior.\n",
            "  _warn_prf(average, modifier, msg_start, len(result))\n",
            "c:\\Users\\Admin\\AppData\\Local\\Programs\\Python\\Python311\\Lib\\site-packages\\sklearn\\metrics\\_classification.py:1344: UndefinedMetricWarning: Precision and F-score are ill-defined and being set to 0.0 in labels with no predicted samples. Use `zero_division` parameter to control this behavior.\n",
            "  _warn_prf(average, modifier, msg_start, len(result))\n"
          ]
        }
      ],
      "source": [
        "from sklearn.model_selection import GridSearchCV\n",
        "\n",
        "n_estimators = [365]\n",
        "max_depth = [78, 80, 82]\n",
        "min_samples_leaf = [3, 4, 5]\n",
        "max_depth.append(None)\n",
        "max_leaf_nodes = [65, 70, 75]\n",
        "\n",
        "params_grid = {\n",
        "    'n_estimators': n_estimators,\n",
        "    'max_depth': max_depth,\n",
        "    'max_leaf_nodes': max_leaf_nodes,\n",
        "    'min_samples_leaf': min_samples_leaf\n",
        "}\n",
        "\n",
        "rf_clf = RandomForestClassifier(random_state=0)\n",
        "\n",
        "rf_cv = GridSearchCV(\n",
        "    rf_clf,\n",
        "    params_grid,\n",
        "    scoring=\"accuracy\",\n",
        "    cv=5,\n",
        "    verbose=1,\n",
        "    n_jobs=-1\n",
        ")\n",
        "\n",
        "\n",
        "rf_cv.fit(X_train, y_train)\n",
        "best_params = rf_cv.best_params_\n",
        "print(f\"Best parameters: {best_params}\")\n",
        "\n",
        "rf_clf = RandomForestClassifier(**best_params)\n",
        "rf_clf.fit(X_train, y_train)\n",
        "\n",
        "y_pred = rf_clf.predict(X_test)\n",
        "\n",
        "print(f'Оценка точности модели при подборе параметров с помощью GridSearchCV {accuracy_score(y_test, y_pred)}')\n",
        "\n",
        "report(y_pred, y_test)"
      ]
    },
    {
      "cell_type": "markdown",
      "metadata": {
        "id": "e8ilf308rPB8"
      },
      "source": [
        "## 9. Оценка лучшей модели:"
      ]
    },
    {
      "cell_type": "markdown",
      "metadata": {
        "id": "0a_6tt6zgx6k"
      },
      "source": [
        "Точность модели при удалении признака Name: **79,88%**\n",
        "\n",
        "Точность модели без удаления признака Name: **78,77%**\n",
        "\n",
        "Точность модели при подборе параметров с помощью RandomizedSearchCV с удалением Name: **79,32%**\n",
        "\n",
        "Точность модели при подборе параметров с помощью GridSearchCV c удалением Name: **79,88%**\n",
        "\n",
        "Точность модели при подборе параметров с помощью GridSearchCV без удаления Name: **59,21%**"
      ]
    },
    {
      "cell_type": "markdown",
      "metadata": {
        "id": "6yaKkCFGrbcK"
      },
      "source": [
        "# Задание 2. Решите задачу из предыдущего пункта используя другие, ранее пройденные классификаторы. Сравните их точность предсказания с Random Forest"
      ]
    },
    {
      "cell_type": "code",
      "execution_count": 72,
      "metadata": {
        "colab": {
          "base_uri": "https://localhost:8080/",
          "height": 762
        },
        "id": "L6NtNp3Pr7IT",
        "outputId": "8f0debc2-f3a0-4094-c7d6-29772d7a77ee"
      },
      "outputs": [
        {
          "data": {
            "image/png": "[encoded data removed]",
            "text/plain": [
              "<Figure size 600x600 with 1 Axes>"
            ]
          },
          "metadata": {},
          "output_type": "display_data"
        },
        {
          "name": "stdout",
          "output_type": "stream",
          "text": [
            "              precision    recall  f1-score   support\n",
            "\n",
            "           0       0.71      0.61      0.66       122\n",
            "           1       0.36      0.46      0.40        57\n",
            "\n",
            "    accuracy                           0.56       179\n",
            "   macro avg       0.53      0.54      0.53       179\n",
            "weighted avg       0.60      0.56      0.58       179\n",
            "\n",
            "Точность KNN: 0.5642458100558659\n",
            "Точность Random Forest: 0.7988826815642458\n"
          ]
        }
      ],
      "source": [
        "from sklearn.neighbors import KNeighborsClassifier\n",
        "from sklearn.metrics import accuracy_score, classification_report\n",
        "\n",
        "knn_classifier = KNeighborsClassifier(n_neighbors=3)\n",
        "knn_classifier.fit(X_train, y_train)\n",
        "\n",
        "y_pred_knn = knn_classifier.predict(X_test)\n",
        "\n",
        "accuracy_knn = accuracy_score(y_test, y_pred_knn)\n",
        "\n",
        "report(y_test, y_pred_knn)\n",
        "\n",
        "print(f\"Точность KNN: {accuracy_knn}\")\n",
        "print(f\"Точность Random Forest: {accuracy}\")"
      ]
    },
    {
      "cell_type": "markdown",
      "metadata": {
        "id": "Ok4UVapNuBEr"
      },
      "source": [
        "# Задание 2.1*. Реализуйте функцию, для взаимодействия с обученной Вами моделью\n",
        "\n",
        "* Функция должна принимать на вход обученную модель классификатора;\n",
        "\n",
        "* После вызова функции, у пользователя через консоль запрашиваются значения признаков. При запросе значений нужно вывести пояснения о типе и диапазоне возможных значений. Также реализуйте обработку исключений;\n",
        "\n",
        "* После ввода значений для всех признаков в консоль, выводится результат работы классификатора."
      ]
    },
    {
      "cell_type": "code",
      "execution_count": 73,
      "metadata": {
        "colab": {
          "base_uri": "https://localhost:8080/"
        },
        "id": "R45z2E1KwT0M",
        "outputId": "312a8440-d322-4b9d-e27b-973738e89c71"
      },
      "outputs": [
        {
          "name": "stdout",
          "output_type": "stream",
          "text": [
            "Точность: 0.5921787709497207\n"
          ]
        }
      ],
      "source": [
        "final_model = RandomForestClassifier(random_state=5, max_depth = 78, max_leaf_nodes = 65, min_samples_leaf = 5, n_estimators = 365)\n",
        "final_model.fit(X_train, y_train)\n",
        "\n",
        "y_pred = final_model.predict(X_test)\n",
        "\n",
        "accuracy = accuracy_score(y_test, y_pred)\n",
        "print(f\"Точность: {accuracy}\")"
      ]
    },
    {
      "cell_type": "code",
      "execution_count": 92,
      "metadata": {
        "id": "LUoKpOqowmDz"
      },
      "outputs": [
        {
          "name": "stdout",
          "output_type": "stream",
          "text": [
            "You did not survive on the Titanic.\n"
          ]
        }
      ],
      "source": [
        "def deadoralive(final_model, X_train):\n",
        "    feature_info = {\n",
        "        'Pclass': {'prompt': \"Enter your class (1/2/3): \", 'type': int},\n",
        "        'Sex_male': {'prompt': \"Enter your gender (0 for female, 1 for male): \", 'type': int},\n",
        "        'Age': {'prompt': \"Enter your age as a number: \", 'type': float},\n",
        "        'SibSp': {'prompt': \"Enter the number of siblings/spouses aboard: \", 'type': int},\n",
        "        'Parch': {'prompt': \"Enter the number of parents/children aboard: \", 'type': int},\n",
        "        'Fare': {'prompt': \"Enter the fare as a number: \", 'type': float}\n",
        "    }\n",
        "\n",
        "    feature_values = {}\n",
        "\n",
        "    for feature, info in feature_info.items():\n",
        "        while True:\n",
        "            try:\n",
        "                value = info['type'](input(info['prompt']).strip())\n",
        "                if feature == 'Sex_male' and value not in [0, 1]:\n",
        "                    raise ValueError(\"Please enter '0' for 'female' or '1' for 'male'.\")\n",
        "                elif feature == 'Pclass' and value not in [1, 2, 3]:\n",
        "                    raise ValueError(\"Please enter '1' or '2' or '3'.\")\n",
        "                break\n",
        "            except ValueError as e:\n",
        "                print(f\"Error: {e}\")\n",
        "\n",
        "        feature_values[feature] = value\n",
        "\n",
        "    prediction_features = pd.DataFrame([feature_values], columns=X_train.columns)\n",
        "\n",
        "    prediction_features.fillna(X_train.median(), inplace=True)\n",
        "    \n",
        "    prediction = final_model.predict(prediction_features)\n",
        "\n",
        "    if prediction[0] == 1:\n",
        "        print(\"You survived on the Titanic!\")\n",
        "    else:\n",
        "        print(\"You did not survive on the Titanic.\")\n",
        "\n",
        "deadoralive(final_model, X_train)\n"
      ]
    },
    {
      "cell_type": "markdown",
      "metadata": {
        "id": "i2zOqwlts-2y"
      },
      "source": [
        "# Задание 3. Решите задачу регрессии, используя [RandomForestRegressor](https://scikit-learn.org/stable/modules/generated/sklearn.ensemble.RandomForestRegressor.html).\n",
        "\n",
        "* Для выполнения данного задания можете использовать **любой датасет**\n",
        "\n"
      ]
    },
    {
      "cell_type": "code",
      "execution_count": 62,
      "metadata": {
        "id": "3fZ51f1rwUQI"
      },
      "outputs": [
        {
          "name": "stdout",
          "output_type": "stream",
          "text": [
            "Mean Squared Error (MSE): 0.2541538021454274\n",
            "R-squared (R2) Score: 0.8062395545467909\n"
          ]
        }
      ],
      "source": [
        "import numpy as np\n",
        "import pandas as pd\n",
        "from sklearn.datasets import fetch_california_housing\n",
        "from sklearn.model_selection import train_test_split\n",
        "from sklearn.ensemble import RandomForestRegressor\n",
        "from sklearn.metrics import mean_squared_error, r2_score\n",
        "\n",
        "# Загрузим датасет \"California Housing Prices\":\n",
        "california_housing = fetch_california_housing(as_frame=True)\n",
        "data = california_housing.data\n",
        "target = california_housing.target\n",
        "\n",
        "# Разделим данные на обучающую и тестовую выборки:\n",
        "X_train, X_test, y_train, y_test = train_test_split(data, target, test_size=0.2, random_state=1)\n",
        "\n",
        "# Создадим и обучим модель RandomForestRegressor:\n",
        "rf_regressor = RandomForestRegressor(random_state=1)\n",
        "rf_regressor.fit(X_train, y_train)\n",
        "\n",
        "# Предскажем значения на тестовой выборке и оценим производительность модели:\n",
        "y_pred = rf_regressor.predict(X_test)\n",
        "\n",
        "mse = mean_squared_error(y_test, y_pred)\n",
        "r2 = r2_score(y_test, y_pred)\n",
        "\n",
        "print(f\"Mean Squared Error (MSE): {mse}\")\n",
        "print(f\"R-squared (R2) Score: {r2}\")"
      ]
    }
  ],
  "metadata": {
    "accelerator": "GPU",
    "colab": {
      "gpuType": "T4",
      "include_colab_link": true,
      "provenance": []
    },
    "kernelspec": {
      "display_name": "Python 3",
      "name": "python3"
    },
    "language_info": {
      "codemirror_mode": {
        "name": "ipython",
        "version": 3
      },
      "file_extension": ".py",
      "mimetype": "text/x-python",
      "name": "python",
      "nbconvert_exporter": "python",
      "pygments_lexer": "ipython3",
      "version": "3.11.4"
    }
  },
  "nbformat": 4,
  "nbformat_minor": 0
}
